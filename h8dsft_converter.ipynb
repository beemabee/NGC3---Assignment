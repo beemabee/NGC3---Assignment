{
 "cells": [
  {
   "attachments": {},
   "cell_type": "markdown",
   "metadata": {},
   "source": [
    "**1. Buatlah sebuah function yang dapat mengkonversi suhu dari kelvin ke celcius, dan celcius ke kelvin**"
   ]
  },
  {
   "attachments": {},
   "cell_type": "markdown",
   "metadata": {},
   "source": [
    "- Kelvin ke Celcius"
   ]
  },
  {
   "cell_type": "code",
   "execution_count": 5,
   "metadata": {},
   "outputs": [
    {
     "name": "stdout",
     "output_type": "stream",
     "text": [
      "suhu dalam celcius adalah:  299.85\n"
     ]
    }
   ],
   "source": [
    "def kelvin_ke_celcius(kelvin):\n",
    "    celcius = kelvin - 273.15\n",
    "    return celcius\n",
    "\n",
    "print ('suhu dalam celcius adalah: ', kelvin_ke_celcius(573))"
   ]
  },
  {
   "attachments": {},
   "cell_type": "markdown",
   "metadata": {},
   "source": [
    "- Celcius ke Kelvin"
   ]
  },
  {
   "cell_type": "code",
   "execution_count": 6,
   "metadata": {},
   "outputs": [
    {
     "name": "stdout",
     "output_type": "stream",
     "text": [
      "suhu dalam kelvin adalah:  373.15\n"
     ]
    }
   ],
   "source": [
    "def celcius_ke_kelvin(celcius):\n",
    "    kelvin = celcius + 273.15\n",
    "    return kelvin\n",
    "\n",
    "print('suhu dalam kelvin adalah: ', celcius_ke_kelvin(100))"
   ]
  },
  {
   "attachments": {},
   "cell_type": "markdown",
   "metadata": {},
   "source": [
    "**2. Buatlah sebuah function yang dapat mengkonversi suhu ke fahrenheit. Tambahkan parameter untuk memastikan bahwa argumen yang dimasukan adalah celcius atau kelvin. Panggil function yang pertama jika diperlukan**."
   ]
  },
  {
   "cell_type": "code",
   "execution_count": 7,
   "metadata": {},
   "outputs": [],
   "source": [
    "'''\n",
    "suhu dalam satuan celcius dapat langsung dikonversi menjadi fahrenheit, namun untuk\n",
    "kelvin tidak dapat langsung, perlu dikonversi ke satuan suhu lain. misalnya dari\n",
    "kelvin ke celcius, dan celcius konversi ke fahrenheit. \n",
    "\n",
    "maka, program dibawah untuk memastikan argumen hanya berupa satuan suhu celcius atau\n",
    "kelvin saja.\n",
    "'''\n",
    "\n",
    "def conversi_ke_fahrenheit(nilaiSuhu, satuanSuhu):\n",
    "    if satuanSuhu == 'celcius':\n",
    "        # konversi celcius ke fahrenheit\n",
    "        fahrenheit = (nilaiSuhu * 9/5) + 32\n",
    "\n",
    "    elif satuanSuhu == 'kelvin':\n",
    "\n",
    "        # konversi kelvin ke celcius dulu\n",
    "        celcius = kelvin_ke_celcius(nilaiSuhu)\n",
    "\n",
    "        # ubah dari celcius ke fahrenheit\n",
    "        fahrenheit = (celcius * 9/5) + 32\n",
    "    \n",
    "    else:\n",
    "        print('satuan suhu tidak dikenali')\n",
    "        return\n",
    "    \n",
    "    return fahrenheit"
   ]
  },
  {
   "cell_type": "code",
   "execution_count": 8,
   "metadata": {},
   "outputs": [
    {
     "name": "stdout",
     "output_type": "stream",
     "text": [
      "nilai suhu dalam satuan fahrenheit:  212.0\n"
     ]
    }
   ],
   "source": [
    "fahrenheit = conversi_ke_fahrenheit(100, 'celcius')\n",
    "print('nilai suhu dalam satuan fahrenheit: ', fahrenheit)"
   ]
  },
  {
   "cell_type": "code",
   "execution_count": 9,
   "metadata": {},
   "outputs": [
    {
     "name": "stdout",
     "output_type": "stream",
     "text": [
      "nilai suhu dalam satuan fahrenheit:  571.73\n"
     ]
    }
   ],
   "source": [
    "fahrenheit = conversi_ke_fahrenheit(573, 'kelvin')\n",
    "print('nilai suhu dalam satuan fahrenheit: ', fahrenheit)"
   ]
  },
  {
   "attachments": {},
   "cell_type": "markdown",
   "metadata": {},
   "source": [
    "**3. Buatlah sebuah function yang dapat mengkonversi suhu dari fahrenheit. Berikan argumen untuk memastikan bahwa outputnya adalah celcius atau kelvin.**"
   ]
  },
  {
   "cell_type": "code",
   "execution_count": 29,
   "metadata": {},
   "outputs": [],
   "source": [
    "def conversi_dari_fahrenheit(nilaiSuhu, satuanSuhu):\n",
    "    if satuanSuhu == 'celcius':\n",
    "    #  conversi dari fahrenheit ke celcius\n",
    "      celcius = (fahrenheit - 32) * 5/9\n",
    "      return celcius\n",
    "    \n",
    "    # conversi dari fahrenheit ke kelvin\n",
    "    elif satuanSuhu == 'kelvin':\n",
    "       kelvin = ((nilaiSuhu - 32) * 5/9) + 273.15\n",
    "      #  bulatkan menjadi 2 angka dibelakang koma\n",
    "       kelvin = round(kelvin,2)\n",
    "       return kelvin\n",
    "    \n",
    "    # selain dari kedua satuan suhu diatas, maka nyatakan tidak valid\n",
    "    else:\n",
    "       return 'jenis satuan suhu tidak valid'"
   ]
  },
  {
   "cell_type": "code",
   "execution_count": 24,
   "metadata": {},
   "outputs": [
    {
     "data": {
      "text/plain": [
       "299.85"
      ]
     },
     "execution_count": 24,
     "metadata": {},
     "output_type": "execute_result"
    }
   ],
   "source": [
    "conversi_dari_fahrenheit(25, 'celcius')"
   ]
  },
  {
   "cell_type": "code",
   "execution_count": 30,
   "metadata": {},
   "outputs": [
    {
     "data": {
      "text/plain": [
       "422.04"
      ]
     },
     "execution_count": 30,
     "metadata": {},
     "output_type": "execute_result"
    }
   ],
   "source": [
    "conversi_dari_fahrenheit(300, 'kelvin')"
   ]
  },
  {
   "cell_type": "code",
   "execution_count": null,
   "metadata": {},
   "outputs": [],
   "source": []
  }
 ],
 "metadata": {
  "kernelspec": {
   "display_name": "Python 3",
   "language": "python",
   "name": "python3"
  },
  "language_info": {
   "codemirror_mode": {
    "name": "ipython",
    "version": 3
   },
   "file_extension": ".py",
   "mimetype": "text/x-python",
   "name": "python",
   "nbconvert_exporter": "python",
   "pygments_lexer": "ipython3",
   "version": "3.9.13"
  },
  "orig_nbformat": 4
 },
 "nbformat": 4,
 "nbformat_minor": 2
}
